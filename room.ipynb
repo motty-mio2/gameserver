{
 "cells": [
  {
   "cell_type": "code",
   "execution_count": 1,
   "metadata": {},
   "outputs": [],
   "source": [
    "from app import model\n",
    "from app import api"
   ]
  },
  {
   "cell_type": "code",
   "execution_count": null,
   "metadata": {},
   "outputs": [],
   "source": [
    "model.room_create(\n",
    "    user_id=2,\n",
    "    live_id=1,\n",
    "    select_difficulty= model.LiveDifficulty.normal)"
   ]
  },
  {
   "cell_type": "code",
   "execution_count": 2,
   "metadata": {},
   "outputs": [
    {
     "name": "stdout",
     "output_type": "stream",
     "text": [
      "2022-03-11 08:53:50,209 INFO sqlalchemy.engine.Engine SELECT DATABASE()\n",
      "2022-03-11 08:53:50,209 INFO sqlalchemy.engine.Engine [raw sql] ()\n",
      "2022-03-11 08:53:50,211 INFO sqlalchemy.engine.Engine SELECT @@sql_mode\n",
      "2022-03-11 08:53:50,211 INFO sqlalchemy.engine.Engine [raw sql] ()\n",
      "2022-03-11 08:53:50,212 INFO sqlalchemy.engine.Engine SELECT @@lower_case_table_names\n",
      "2022-03-11 08:53:50,212 INFO sqlalchemy.engine.Engine [raw sql] ()\n",
      "2022-03-11 08:53:50,214 INFO sqlalchemy.engine.Engine BEGIN (implicit)\n",
      "2022-03-11 08:53:50,215 INFO sqlalchemy.engine.Engine SELECT `room_id` FROM `room` WHERE `live_id`=%s\n",
      "2022-03-11 08:53:50,215 INFO sqlalchemy.engine.Engine [generated in 0.00054s] (1,)\n",
      "2022-03-11 08:53:50,216 INFO sqlalchemy.engine.Engine COMMIT\n"
     ]
    },
    {
     "data": {
      "text/plain": [
       "[6, 8, 11, 12, 13, 14, 15, 16]"
      ]
     },
     "execution_count": 2,
     "metadata": {},
     "output_type": "execute_result"
    }
   ],
   "source": [
    "model.room_list(1)"
   ]
  },
  {
   "cell_type": "code",
   "execution_count": 3,
   "metadata": {},
   "outputs": [
    {
     "name": "stdout",
     "output_type": "stream",
     "text": [
      "2022-03-11 08:53:51,417 INFO sqlalchemy.engine.Engine BEGIN (implicit)\n",
      "2022-03-11 08:53:51,419 INFO sqlalchemy.engine.Engine SELECT `room_members_count` FROM `room` WHERE `room_id`=%s\n",
      "2022-03-11 08:53:51,421 INFO sqlalchemy.engine.Engine [generated in 0.00142s] (6,)\n",
      "[(1,)]-(1,)-1\n",
      "members []\n",
      "2022-03-11 08:53:51,423 INFO sqlalchemy.engine.Engine ROLLBACK\n"
     ]
    },
    {
     "ename": "IndexError",
     "evalue": "list index out of range",
     "output_type": "error",
     "traceback": [
      "\u001b[0;31m---------------------------------------------------------------------------\u001b[0m",
      "\u001b[0;31mIndexError\u001b[0m                                Traceback (most recent call last)",
      "\u001b[1;32m/workspaces/gameserver/room.ipynb Cell 4'\u001b[0m in \u001b[0;36m<cell line: 1>\u001b[0;34m()\u001b[0m\n\u001b[0;32m----> <a href='vscode-notebook-cell://codespaces%2Bmotty-mio2-gameserver-vpr7rgx5cp57r/workspaces/gameserver/room.ipynb#ch0000015vscode-remote?line=0'>1</a>\u001b[0m model\u001b[39m.\u001b[39;49mroom_join(room_id\u001b[39m=\u001b[39;49m\u001b[39m6\u001b[39;49m,\n\u001b[1;32m      <a href='vscode-notebook-cell://codespaces%2Bmotty-mio2-gameserver-vpr7rgx5cp57r/workspaces/gameserver/room.ipynb#ch0000015vscode-remote?line=1'>2</a>\u001b[0m select_difficulty\u001b[39m=\u001b[39;49m model\u001b[39m.\u001b[39;49mLiveDifficulty\u001b[39m.\u001b[39;49mhard)\n",
      "File \u001b[0;32m/workspaces/gameserver/app/model.py:154\u001b[0m, in \u001b[0;36mroom_join\u001b[0;34m(room_id, select_difficulty)\u001b[0m\n\u001b[1;32m    <a href='file:///workspaces/gameserver/app/model.py?line=151'>152</a>\u001b[0m \u001b[39mprint\u001b[39m(\u001b[39mf\u001b[39m\u001b[39m\"\u001b[39m\u001b[39m{\u001b[39;00mrx\u001b[39m}\u001b[39;00m\u001b[39m-\u001b[39m\u001b[39m{\u001b[39;00mrx[\u001b[39m0\u001b[39m]\u001b[39m}\u001b[39;00m\u001b[39m-\u001b[39m\u001b[39m{\u001b[39;00mrx[\u001b[39m0\u001b[39m][\u001b[39m0\u001b[39m]\u001b[39m}\u001b[39;00m\u001b[39m\"\u001b[39m)\n\u001b[1;32m    <a href='file:///workspaces/gameserver/app/model.py?line=152'>153</a>\u001b[0m \u001b[39mprint\u001b[39m(\u001b[39mf\u001b[39m\u001b[39m\"\u001b[39m\u001b[39mmembers \u001b[39m\u001b[39m{\u001b[39;00mresult\u001b[39m.\u001b[39mfetchall()\u001b[39m}\u001b[39;00m\u001b[39m\"\u001b[39m)\n\u001b[0;32m--> <a href='file:///workspaces/gameserver/app/model.py?line=153'>154</a>\u001b[0m members \u001b[39m=\u001b[39m result\u001b[39m.\u001b[39;49mfetchall()[\u001b[39m0\u001b[39;49m][\u001b[39m0\u001b[39m]\n\u001b[1;32m    <a href='file:///workspaces/gameserver/app/model.py?line=154'>155</a>\u001b[0m \u001b[39mif\u001b[39;00m members \u001b[39m==\u001b[39m \u001b[39m0\u001b[39m:\n\u001b[1;32m    <a href='file:///workspaces/gameserver/app/model.py?line=155'>156</a>\u001b[0m     \u001b[39m# process of join\u001b[39;00m\n\u001b[1;32m    <a href='file:///workspaces/gameserver/app/model.py?line=156'>157</a>\u001b[0m     \u001b[39mpass\u001b[39;00m\n",
      "\u001b[0;31mIndexError\u001b[0m: list index out of range"
     ]
    }
   ],
   "source": [
    "model.room_join(room_id=6,\n",
    "select_difficulty= model.LiveDifficulty.hard)\n"
   ]
  },
  {
   "cell_type": "code",
   "execution_count": null,
   "metadata": {},
   "outputs": [],
   "source": [
    "model.room_wait(100)"
   ]
  },
  {
   "cell_type": "code",
   "execution_count": null,
   "metadata": {},
   "outputs": [],
   "source": [
    "from enum import IntEnum"
   ]
  },
  {
   "cell_type": "code",
   "execution_count": null,
   "metadata": {},
   "outputs": [],
   "source": [
    "class t (IntEnum):\n",
    "    a = 1\n",
    "    b = 2"
   ]
  },
  {
   "cell_type": "code",
   "execution_count": null,
   "metadata": {},
   "outputs": [],
   "source": [
    "t"
   ]
  },
  {
   "cell_type": "code",
   "execution_count": null,
   "metadata": {},
   "outputs": [],
   "source": [
    "t.a"
   ]
  },
  {
   "cell_type": "code",
   "execution_count": null,
   "metadata": {},
   "outputs": [],
   "source": [
    "t.b"
   ]
  },
  {
   "cell_type": "code",
   "execution_count": null,
   "metadata": {},
   "outputs": [],
   "source": [
    "x = t(1)\n",
    "x"
   ]
  },
  {
   "cell_type": "code",
   "execution_count": null,
   "metadata": {},
   "outputs": [],
   "source": []
  }
 ],
 "metadata": {
  "interpreter": {
   "hash": "86c35c488403ca8a76c23929436815248fd5d548e5d43e33b9dae693b5d3749c"
  },
  "kernelspec": {
   "display_name": "Python 3.10.2 ('venv': venv)",
   "language": "python",
   "name": "python3"
  },
  "language_info": {
   "codemirror_mode": {
    "name": "ipython",
    "version": 3
   },
   "file_extension": ".py",
   "mimetype": "text/x-python",
   "name": "python",
   "nbconvert_exporter": "python",
   "pygments_lexer": "ipython3",
   "version": "3.10.2"
  },
  "orig_nbformat": 4
 },
 "nbformat": 4,
 "nbformat_minor": 2
}
