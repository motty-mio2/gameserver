{
 "cells": [
  {
   "cell_type": "code",
   "execution_count": null,
   "metadata": {},
   "outputs": [],
   "source": [
    "from sqlalchemy import *\n",
    "from app.db import engine\n",
    "import uuid"
   ]
  },
  {
   "cell_type": "code",
   "execution_count": null,
   "metadata": {},
   "outputs": [],
   "source": [
    "conn = engine.connect()"
   ]
  },
  {
   "cell_type": "code",
   "execution_count": null,
   "metadata": {},
   "outputs": [],
   "source": [
    "res = conn.execute(text(\"select * from user\"))\n",
    "rows = res.fetchall()\n",
    "rows\n",
    "# rows[0][\"name\"]"
   ]
  },
  {
   "cell_type": "code",
   "execution_count": null,
   "metadata": {},
   "outputs": [],
   "source": [
    "def create_user(conn, name: str, leader_card_id: int) -> str:\n",
    "    token = str(uuid.uuid4())\n",
    "    \n",
    "    result = conn.execute(\n",
    "            text(\"INSERT INTO `user` (name, token, leader_card_id) VALUES (:name ,:token, :leader_card_id)\"),\n",
    "            dict(name=name, token=token, leader_card_id=leader_card_id),\n",
    "        )\n",
    "        # con.execute(\"INSERT INTO USERS (id, name, age) VALUES(1, 'Kuro', '33')\")\n",
    "    return token"
   ]
  },
  {
   "cell_type": "code",
   "execution_count": null,
   "metadata": {},
   "outputs": [],
   "source": [
    "create_user(conn=conn,name=\"neko\", leader_card_id=22)"
   ]
  },
  {
   "cell_type": "code",
   "execution_count": null,
   "metadata": {},
   "outputs": [],
   "source": [
    "import app.model as model\n",
    "\n",
    "ret = model._get_user_by_token(conn = conn, token=\"sea\")\n",
    "print(ret)\n",
    "print(type(ret))\n",
    "\n",
    "ret2 = model._get_user_by_token(conn = conn, token=\"xyz\")\n",
    "print(ret2)"
   ]
  },
  {
   "cell_type": "code",
   "execution_count": null,
   "metadata": {},
   "outputs": [],
   "source": [
    "import app.model as model\n",
    "model.update_user(token=\"sea\", name = \"ほのか2\", leader_card_id=444)"
   ]
  },
  {
   "cell_type": "code",
   "execution_count": null,
   "metadata": {},
   "outputs": [],
   "source": [
    "res2 = conn.execute(text(\"select * from user\"))\n",
    "rows2 = res2.fetchall()\n",
    "rows2\n",
    "# rows[0][\"name\"]"
   ]
  },
  {
   "cell_type": "code",
   "execution_count": null,
   "metadata": {},
   "outputs": [],
   "source": []
  }
 ],
 "metadata": {
  "interpreter": {
   "hash": "86c35c488403ca8a76c23929436815248fd5d548e5d43e33b9dae693b5d3749c"
  },
  "kernelspec": {
   "display_name": "Python 3.10.2 ('venv': venv)",
   "language": "python",
   "name": "python3"
  },
  "language_info": {
   "codemirror_mode": {
    "name": "ipython",
    "version": 3
   },
   "file_extension": ".py",
   "mimetype": "text/x-python",
   "name": "python",
   "nbconvert_exporter": "python",
   "pygments_lexer": "ipython3",
   "version": "3.10.2"
  },
  "orig_nbformat": 4
 },
 "nbformat": 4,
 "nbformat_minor": 2
}
